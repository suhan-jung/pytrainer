{
 "cells": [
  {
   "cell_type": "code",
   "execution_count": 1,
   "metadata": {},
   "outputs": [
    {
     "output_type": "stream",
     "name": "stdout",
     "text": "2020-05-06 13:41:25.827897\nDave login\n2020-05-06 13:41:25.827897\n"
    }
   ],
   "source": [
    "# 시간을 앞뒤로 추가하고 싶다.\n",
    "# 이렇게 넣으면 됩니다.\n",
    "import datetime\n",
    "\n",
    "def logger_login():\n",
    "    print (datetime.datetime.now())\n",
    "    print (\"Dave login\")\n",
    "    print (datetime.datetime.now())\n",
    "\n",
    "logger_login()"
   ]
  },
  {
   "cell_type": "code",
   "execution_count": 2,
   "metadata": {},
   "outputs": [],
   "source": [
    "# 데코레이터 작성하기\n",
    "def datetime_decorator(func):           # <--- datetime_decorator 는 데코레이터 이름, func 가 이 함수 안에 넣을 함수가 됨\n",
    "    def wrapper():                      # <--- 호출할 함수를 감싸는 함수\n",
    "        print ('time ' + str(datetime.datetime.now())) # <--- 함수 앞에서 실행할 내용\n",
    "        func()                          # <--- 함수  \n",
    "        print (datetime.datetime.now()) # <--- 함수 뒤에서 실행할 내용\n",
    "    return wrapper                      # <--- closure 함수로 만든다."
   ]
  },
  {
   "cell_type": "code",
   "execution_count": 3,
   "metadata": {},
   "outputs": [
    {
     "output_type": "stream",
     "name": "stdout",
     "text": "time 2020-05-06 13:42:44.771670\nDavid login\n2020-05-06 13:42:44.771670\n"
    }
   ],
   "source": [
    "# 데코레이터 적용하기\n",
    "@datetime_decorator    # @데코레이터\n",
    "def logger_login_david():\n",
    "     print (\"David login\")\n",
    "\n",
    "logger_login_david()"
   ]
  },
  {
   "cell_type": "code",
   "execution_count": 4,
   "metadata": {},
   "outputs": [
    {
     "output_type": "stream",
     "name": "stdout",
     "text": "time 2020-05-06 13:43:12.908985\nAnthony login\n2020-05-06 13:43:12.908985\n"
    }
   ],
   "source": [
    "@datetime_decorator    # @데코레이터\n",
    "def logger_login_anthony():\n",
    "     print (\"Anthony login\")\n",
    "\n",
    "logger_login_anthony()"
   ]
  },
  {
   "cell_type": "code",
   "execution_count": null,
   "metadata": {},
   "outputs": [],
   "source": []
  }
 ],
 "metadata": {
  "language_info": {
   "codemirror_mode": {
    "name": "ipython",
    "version": 3
   },
   "file_extension": ".py",
   "mimetype": "text/x-python",
   "name": "python",
   "nbconvert_exporter": "python",
   "pygments_lexer": "ipython3",
   "version": "3.7.6-final"
  },
  "orig_nbformat": 2,
  "kernelspec": {
   "name": "python37632bitpy3732conda0585a46ea7384d81b8e978e4a6b98009",
   "display_name": "Python 3.7.6 32-bit ('py37_32': conda)"
  }
 },
 "nbformat": 4,
 "nbformat_minor": 2
}